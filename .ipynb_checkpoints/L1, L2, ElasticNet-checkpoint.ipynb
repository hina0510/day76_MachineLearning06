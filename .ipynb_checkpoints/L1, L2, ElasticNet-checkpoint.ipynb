{
 "cells": [
  {
   "cell_type": "markdown",
   "id": "82665249",
   "metadata": {},
   "source": [
    "### 규제\n",
    "* 학습이 과대적합도는 것을 방지하고자 하는 알고리즘\n",
    "* 라쏘(Lasso)\n",
    "    - L1규제를 추가한 모형\n",
    "    - 영향력이 크지 않은 회귀계수 값을 0으로 만드는 특성이 있다.\n",
    "        * 회귀계수 : 독립변수의 값이 변화함에 따라 종속변수에 미치는 영향력 크기\n",
    "    - alpha를 이용하여 가중치 제어. alpha값에 따라 과적합될 우려가 있다.\n",
    "    - 영향력이 작은 회귀계수를 0으로 만듦으로써 모델에서 가장 중요한 특성이 무엇인지 알 수 있다\n",
    "* 릿지(Ridge)\n",
    "    - L2규제를 추가한 모형\n",
    "    - 계수값을 0이 아닌 작게 만드는 특성이 있다.\n",
    "    - alpha를 이용하여 가중치 제어. alpha값에 따라 과적합될 우려가 있다.\n",
    "* 엘라스틱넷(ElasticNet)\n",
    "    - L1, L2를 함께 결합한 모형\n",
    "    - 피처가 많은 데이터세트에 적용\n",
    "    - L1 규제로 feature의 수를 줄이고 L2규제로 계수값의 크기를 조정\n",
    "    - 파라미터\n",
    "        * alpha : L1규제의 alpha(a) + L2규제의 alpha(b). L1과 L2의 alpha를 합처논 것이다.\n",
    "        * l1_ratio = 0 : 0에 가까워 질수록 L2규제와 동일\n",
    "        * l1_ratio = 1 : 1에 가까워 질수록 L1규제와 동일\n",
    "        * 0 < l1_ratio < 1 : L1과 L2규제를 적절히 적용\n",
    "* 계수 : 계산해서 얻은 값"
   ]
  },
  {
   "cell_type": "code",
   "execution_count": 1,
   "id": "a91d19b1",
   "metadata": {},
   "outputs": [],
   "source": [
    "import pandas as pd\n",
    "import numpy as np\n",
    "import warnings\n",
    "warnings.filterwarnings(\"ignore\")"
   ]
  },
  {
   "cell_type": "code",
   "execution_count": 2,
   "id": "9f1a42e8",
   "metadata": {},
   "outputs": [
    {
     "data": {
      "text/html": [
       "<div>\n",
       "<style scoped>\n",
       "    .dataframe tbody tr th:only-of-type {\n",
       "        vertical-align: middle;\n",
       "    }\n",
       "\n",
       "    .dataframe tbody tr th {\n",
       "        vertical-align: top;\n",
       "    }\n",
       "\n",
       "    .dataframe thead th {\n",
       "        text-align: right;\n",
       "    }\n",
       "</style>\n",
       "<table border=\"1\" class=\"dataframe\">\n",
       "  <thead>\n",
       "    <tr style=\"text-align: right;\">\n",
       "      <th></th>\n",
       "      <th>CRIM</th>\n",
       "      <th>ZN</th>\n",
       "      <th>INDUS</th>\n",
       "      <th>CHAS</th>\n",
       "      <th>NOX</th>\n",
       "      <th>RM</th>\n",
       "      <th>AGE</th>\n",
       "      <th>DIS</th>\n",
       "      <th>RAD</th>\n",
       "      <th>TAX</th>\n",
       "      <th>PTRATIO</th>\n",
       "      <th>B</th>\n",
       "      <th>LSTAT</th>\n",
       "      <th>PRICE</th>\n",
       "    </tr>\n",
       "  </thead>\n",
       "  <tbody>\n",
       "    <tr>\n",
       "      <th>0</th>\n",
       "      <td>0.00632</td>\n",
       "      <td>18.0</td>\n",
       "      <td>2.31</td>\n",
       "      <td>0.0</td>\n",
       "      <td>0.538</td>\n",
       "      <td>6.575</td>\n",
       "      <td>65.2</td>\n",
       "      <td>4.0900</td>\n",
       "      <td>1.0</td>\n",
       "      <td>296.0</td>\n",
       "      <td>15.3</td>\n",
       "      <td>396.90</td>\n",
       "      <td>4.98</td>\n",
       "      <td>24.0</td>\n",
       "    </tr>\n",
       "    <tr>\n",
       "      <th>1</th>\n",
       "      <td>0.02731</td>\n",
       "      <td>0.0</td>\n",
       "      <td>7.07</td>\n",
       "      <td>0.0</td>\n",
       "      <td>0.469</td>\n",
       "      <td>6.421</td>\n",
       "      <td>78.9</td>\n",
       "      <td>4.9671</td>\n",
       "      <td>2.0</td>\n",
       "      <td>242.0</td>\n",
       "      <td>17.8</td>\n",
       "      <td>396.90</td>\n",
       "      <td>9.14</td>\n",
       "      <td>21.6</td>\n",
       "    </tr>\n",
       "    <tr>\n",
       "      <th>2</th>\n",
       "      <td>0.02729</td>\n",
       "      <td>0.0</td>\n",
       "      <td>7.07</td>\n",
       "      <td>0.0</td>\n",
       "      <td>0.469</td>\n",
       "      <td>7.185</td>\n",
       "      <td>61.1</td>\n",
       "      <td>4.9671</td>\n",
       "      <td>2.0</td>\n",
       "      <td>242.0</td>\n",
       "      <td>17.8</td>\n",
       "      <td>392.83</td>\n",
       "      <td>4.03</td>\n",
       "      <td>34.7</td>\n",
       "    </tr>\n",
       "    <tr>\n",
       "      <th>3</th>\n",
       "      <td>0.03237</td>\n",
       "      <td>0.0</td>\n",
       "      <td>2.18</td>\n",
       "      <td>0.0</td>\n",
       "      <td>0.458</td>\n",
       "      <td>6.998</td>\n",
       "      <td>45.8</td>\n",
       "      <td>6.0622</td>\n",
       "      <td>3.0</td>\n",
       "      <td>222.0</td>\n",
       "      <td>18.7</td>\n",
       "      <td>394.63</td>\n",
       "      <td>2.94</td>\n",
       "      <td>33.4</td>\n",
       "    </tr>\n",
       "    <tr>\n",
       "      <th>4</th>\n",
       "      <td>0.06905</td>\n",
       "      <td>0.0</td>\n",
       "      <td>2.18</td>\n",
       "      <td>0.0</td>\n",
       "      <td>0.458</td>\n",
       "      <td>7.147</td>\n",
       "      <td>54.2</td>\n",
       "      <td>6.0622</td>\n",
       "      <td>3.0</td>\n",
       "      <td>222.0</td>\n",
       "      <td>18.7</td>\n",
       "      <td>396.90</td>\n",
       "      <td>5.33</td>\n",
       "      <td>36.2</td>\n",
       "    </tr>\n",
       "  </tbody>\n",
       "</table>\n",
       "</div>"
      ],
      "text/plain": [
       "      CRIM    ZN  INDUS  CHAS    NOX     RM   AGE     DIS  RAD    TAX  \\\n",
       "0  0.00632  18.0   2.31   0.0  0.538  6.575  65.2  4.0900  1.0  296.0   \n",
       "1  0.02731   0.0   7.07   0.0  0.469  6.421  78.9  4.9671  2.0  242.0   \n",
       "2  0.02729   0.0   7.07   0.0  0.469  7.185  61.1  4.9671  2.0  242.0   \n",
       "3  0.03237   0.0   2.18   0.0  0.458  6.998  45.8  6.0622  3.0  222.0   \n",
       "4  0.06905   0.0   2.18   0.0  0.458  7.147  54.2  6.0622  3.0  222.0   \n",
       "\n",
       "   PTRATIO       B  LSTAT  PRICE  \n",
       "0     15.3  396.90   4.98   24.0  \n",
       "1     17.8  396.90   9.14   21.6  \n",
       "2     17.8  392.83   4.03   34.7  \n",
       "3     18.7  394.63   2.94   33.4  \n",
       "4     18.7  396.90   5.33   36.2  "
      ]
     },
     "execution_count": 2,
     "metadata": {},
     "output_type": "execute_result"
    }
   ],
   "source": [
    "df = pd.read_csv(\"data/boston.csv\")\n",
    "df.head()"
   ]
  },
  {
   "cell_type": "code",
   "execution_count": 3,
   "id": "98e6f198",
   "metadata": {},
   "outputs": [
    {
     "data": {
      "text/plain": [
       "Index(['CRIM', 'ZN', 'INDUS', 'CHAS', 'NOX', 'RM', 'AGE', 'DIS', 'RAD', 'TAX',\n",
       "       'PTRATIO', 'B', 'LSTAT', 'PRICE'],\n",
       "      dtype='object')"
      ]
     },
     "execution_count": 3,
     "metadata": {},
     "output_type": "execute_result"
    }
   ],
   "source": [
    "df.columns"
   ]
  },
  {
   "cell_type": "code",
   "execution_count": 4,
   "id": "5c8d99ad",
   "metadata": {},
   "outputs": [],
   "source": [
    "f =['CRIM', 'ZN', 'INDUS', 'CHAS', 'NOX', 'RM', 'AGE', 'DIS', 'RAD', 'TAX',\n",
    "       'PTRATIO', 'B', 'LSTAT']\n",
    "label='PRICE'\n",
    "x, y = df[f], df[label]"
   ]
  },
  {
   "cell_type": "code",
   "execution_count": 5,
   "id": "09b22133",
   "metadata": {},
   "outputs": [
    {
     "data": {
      "text/plain": [
       "((354, 13), (152, 13))"
      ]
     },
     "execution_count": 5,
     "metadata": {},
     "output_type": "execute_result"
    }
   ],
   "source": [
    "from sklearn.model_selection import train_test_split\n",
    "\n",
    "x_train, x_test, y_train, y_test = train_test_split(x, y, test_size=0.3)\n",
    "x_train.shape, x_test.shape"
   ]
  },
  {
   "cell_type": "code",
   "execution_count": 7,
   "id": "9f4ac946",
   "metadata": {},
   "outputs": [
    {
     "name": "stdout",
     "output_type": "stream",
     "text": [
      "score :  0.754387398246946 mse :  22.14984766184343\n",
      "score :  0.6356374725562111 mse :  25.686031596635438\n"
     ]
    }
   ],
   "source": [
    "from sklearn.metrics import mean_squared_error\n",
    "from sklearn.linear_model import Lasso\n",
    "# alpha : 규제 강도\n",
    "# 수치가 높을수록 강한 강도이다\n",
    "# 강도가 높다 : 영향력이 높은 것들도 0으로 만든다\n",
    "lasso = Lasso(alpha=0.07)\n",
    "lasso.fit(x_train, y_train)\n",
    "train_pred = lasso.predict(x_train)\n",
    "test_pred = lasso.predict(x_test)\n",
    "\n",
    "print(\"score : \", lasso.score(x_train, y_train), \"mse : \", mean_squared_error(train_pred, y_train))\n",
    "print(\"score : \", lasso.score(x_test, y_test), \"mse : \", mean_squared_error(test_pred, y_test))"
   ]
  },
  {
   "cell_type": "code",
   "execution_count": 9,
   "id": "837c301d",
   "metadata": {},
   "outputs": [
    {
     "name": "stdout",
     "output_type": "stream",
     "text": [
      "alpha :  0.07\n",
      "score :  0.6356374725562111 mse :  25.686031596635438\n",
      "score :  0.754387398246946 mse :  22.14984766184343\n",
      "--------------------------------------------------\n",
      "alpha :  0.1\n",
      "score :  0.6356374725562111 mse :  25.686031596635438\n",
      "score :  0.754387398246946 mse :  22.14984766184343\n",
      "--------------------------------------------------\n",
      "alpha :  0.5\n",
      "score :  0.6356374725562111 mse :  25.686031596635438\n",
      "score :  0.754387398246946 mse :  22.14984766184343\n",
      "--------------------------------------------------\n",
      "alpha :  1.3\n",
      "score :  0.6356374725562111 mse :  25.686031596635438\n",
      "score :  0.754387398246946 mse :  22.14984766184343\n",
      "--------------------------------------------------\n",
      "alpha :  2\n",
      "score :  0.6356374725562111 mse :  25.686031596635438\n",
      "score :  0.754387398246946 mse :  22.14984766184343\n",
      "--------------------------------------------------\n"
     ]
    }
   ],
   "source": [
    "alphas = [0.07, 0.1, 0.5, 1.3, 2]\n",
    "for a in alphas : \n",
    "    lasso = Lasso(alpha=0.07)\n",
    "    lasso.fit(x_train, y_train)\n",
    "    train_pred = lasso.predict(x_train)\n",
    "    test_pred = lasso.predict(x_test)\n",
    "\n",
    "    print(\"alpha : \", a)\n",
    "    print(\"score : \", lasso.score(x_test, y_test), \"mse : \", mean_squared_error(test_pred, y_test))\n",
    "    print(\"score : \", lasso.score(x_train, y_train), \"mse : \", mean_squared_error(train_pred, y_train))\n",
    "    print(\"-\"*50)"
   ]
  },
  {
   "cell_type": "code",
   "execution_count": 13,
   "id": "7b65bfac",
   "metadata": {},
   "outputs": [
    {
     "name": "stdout",
     "output_type": "stream",
     "text": [
      "최적의 하이퍼 파라미터 :  {'alpha': 0.1}\n",
      "train :  0.7533303195515548\n",
      "test :  0.6352812434132087\n"
     ]
    }
   ],
   "source": [
    "from sklearn.model_selection import GridSearchCV\n",
    "\n",
    "params = {\"alpha\": [0.07, 0.1, 0.5, 1.3, 2]}\n",
    "lasso = Lasso()\n",
    "grid_cv = GridSearchCV(lasso, param_grid = params, cv=5)\n",
    "grid_cv.fit(x_train, y_train)\n",
    "print(\"최적의 하이퍼 파라미터 : \", grid_cv.best_params_ )\n",
    "print(\"train : \", grid_cv.score(x_train, y_train))\n",
    "print(\"test : \", grid_cv.score(x_test, y_test))"
   ]
  },
  {
   "cell_type": "code",
   "execution_count": 15,
   "id": "cf9f4590",
   "metadata": {},
   "outputs": [
    {
     "name": "stdout",
     "output_type": "stream",
     "text": [
      "Index(['CRIM', 'ZN', 'INDUS', 'CHAS', 'NOX', 'RM', 'AGE', 'DIS', 'RAD', 'TAX',\n",
      "       'PTRATIO', 'B', 'LSTAT'],\n",
      "      dtype='object')\n"
     ]
    },
    {
     "data": {
      "text/plain": [
       "array([-0.08454171,  0.03441552, -0.01150775,  1.207332  , -0.        ,\n",
       "        4.64719588, -0.01801698, -0.99796159,  0.22591742, -0.01297881,\n",
       "       -0.87534062,  0.00965054, -0.50586973])"
      ]
     },
     "execution_count": 15,
     "metadata": {},
     "output_type": "execute_result"
    }
   ],
   "source": [
    "lasso = Lasso(alpha=0.07)\n",
    "lasso.fit(x_train, y_train)\n",
    "print(x_train.columns )\n",
    "lasso.coef_"
   ]
  },
  {
   "cell_type": "code",
   "execution_count": 16,
   "id": "c114134f",
   "metadata": {},
   "outputs": [
    {
     "data": {
      "text/plain": [
       "[0.07, 0.1, 0.5, 1.3, 2]"
      ]
     },
     "execution_count": 16,
     "metadata": {},
     "output_type": "execute_result"
    }
   ],
   "source": [
    "alphas"
   ]
  },
  {
   "cell_type": "code",
   "execution_count": 19,
   "id": "1ba3f1cf",
   "metadata": {},
   "outputs": [
    {
     "name": "stdout",
     "output_type": "stream",
     "text": [
      "0  :  0.07\n",
      "1  :  0.1\n",
      "2  :  0.5\n",
      "3  :  1.3\n",
      "4  :  2\n"
     ]
    },
    {
     "data": {
      "text/html": [
       "<div>\n",
       "<style scoped>\n",
       "    .dataframe tbody tr th:only-of-type {\n",
       "        vertical-align: middle;\n",
       "    }\n",
       "\n",
       "    .dataframe tbody tr th {\n",
       "        vertical-align: top;\n",
       "    }\n",
       "\n",
       "    .dataframe thead th {\n",
       "        text-align: right;\n",
       "    }\n",
       "</style>\n",
       "<table border=\"1\" class=\"dataframe\">\n",
       "  <thead>\n",
       "    <tr style=\"text-align: right;\">\n",
       "      <th></th>\n",
       "      <th>alpha : 0.07</th>\n",
       "      <th>alpha : 0.1</th>\n",
       "      <th>alpha : 0.5</th>\n",
       "      <th>alpha : 1.3</th>\n",
       "      <th>alpha : 2</th>\n",
       "    </tr>\n",
       "  </thead>\n",
       "  <tbody>\n",
       "    <tr>\n",
       "      <th>CRIM</th>\n",
       "      <td>-0.084542</td>\n",
       "      <td>-0.084210</td>\n",
       "      <td>-0.072227</td>\n",
       "      <td>-0.046240</td>\n",
       "      <td>-0.023143</td>\n",
       "    </tr>\n",
       "    <tr>\n",
       "      <th>ZN</th>\n",
       "      <td>0.034416</td>\n",
       "      <td>0.034504</td>\n",
       "      <td>0.034865</td>\n",
       "      <td>0.034615</td>\n",
       "      <td>0.027755</td>\n",
       "    </tr>\n",
       "    <tr>\n",
       "      <th>INDUS</th>\n",
       "      <td>-0.011508</td>\n",
       "      <td>-0.005774</td>\n",
       "      <td>-0.000000</td>\n",
       "      <td>-0.000000</td>\n",
       "      <td>-0.000000</td>\n",
       "    </tr>\n",
       "    <tr>\n",
       "      <th>CHAS</th>\n",
       "      <td>1.207332</td>\n",
       "      <td>0.737256</td>\n",
       "      <td>0.000000</td>\n",
       "      <td>0.000000</td>\n",
       "      <td>0.000000</td>\n",
       "    </tr>\n",
       "    <tr>\n",
       "      <th>NOX</th>\n",
       "      <td>-0.000000</td>\n",
       "      <td>-0.000000</td>\n",
       "      <td>-0.000000</td>\n",
       "      <td>-0.000000</td>\n",
       "      <td>-0.000000</td>\n",
       "    </tr>\n",
       "    <tr>\n",
       "      <th>RM</th>\n",
       "      <td>4.647196</td>\n",
       "      <td>4.563962</td>\n",
       "      <td>3.293072</td>\n",
       "      <td>0.742676</td>\n",
       "      <td>0.000000</td>\n",
       "    </tr>\n",
       "    <tr>\n",
       "      <th>AGE</th>\n",
       "      <td>-0.018017</td>\n",
       "      <td>-0.016242</td>\n",
       "      <td>-0.000000</td>\n",
       "      <td>0.024831</td>\n",
       "      <td>0.040407</td>\n",
       "    </tr>\n",
       "    <tr>\n",
       "      <th>DIS</th>\n",
       "      <td>-0.997962</td>\n",
       "      <td>-0.978230</td>\n",
       "      <td>-0.765847</td>\n",
       "      <td>-0.385394</td>\n",
       "      <td>-0.000000</td>\n",
       "    </tr>\n",
       "    <tr>\n",
       "      <th>RAD</th>\n",
       "      <td>0.225917</td>\n",
       "      <td>0.230215</td>\n",
       "      <td>0.229945</td>\n",
       "      <td>0.215064</td>\n",
       "      <td>0.160249</td>\n",
       "    </tr>\n",
       "    <tr>\n",
       "      <th>TAX</th>\n",
       "      <td>-0.012979</td>\n",
       "      <td>-0.013276</td>\n",
       "      <td>-0.013584</td>\n",
       "      <td>-0.013341</td>\n",
       "      <td>-0.011466</td>\n",
       "    </tr>\n",
       "    <tr>\n",
       "      <th>PTRATIO</th>\n",
       "      <td>-0.875341</td>\n",
       "      <td>-0.882250</td>\n",
       "      <td>-0.867814</td>\n",
       "      <td>-0.809978</td>\n",
       "      <td>-0.694286</td>\n",
       "    </tr>\n",
       "    <tr>\n",
       "      <th>B</th>\n",
       "      <td>0.009651</td>\n",
       "      <td>0.009671</td>\n",
       "      <td>0.008827</td>\n",
       "      <td>0.006888</td>\n",
       "      <td>0.005844</td>\n",
       "    </tr>\n",
       "    <tr>\n",
       "      <th>LSTAT</th>\n",
       "      <td>-0.505870</td>\n",
       "      <td>-0.514344</td>\n",
       "      <td>-0.608287</td>\n",
       "      <td>-0.784532</td>\n",
       "      <td>-0.831229</td>\n",
       "    </tr>\n",
       "  </tbody>\n",
       "</table>\n",
       "</div>"
      ],
      "text/plain": [
       "         alpha : 0.07  alpha : 0.1  alpha : 0.5  alpha : 1.3  alpha : 2\n",
       "CRIM        -0.084542    -0.084210    -0.072227    -0.046240  -0.023143\n",
       "ZN           0.034416     0.034504     0.034865     0.034615   0.027755\n",
       "INDUS       -0.011508    -0.005774    -0.000000    -0.000000  -0.000000\n",
       "CHAS         1.207332     0.737256     0.000000     0.000000   0.000000\n",
       "NOX         -0.000000    -0.000000    -0.000000    -0.000000  -0.000000\n",
       "RM           4.647196     4.563962     3.293072     0.742676   0.000000\n",
       "AGE         -0.018017    -0.016242    -0.000000     0.024831   0.040407\n",
       "DIS         -0.997962    -0.978230    -0.765847    -0.385394  -0.000000\n",
       "RAD          0.225917     0.230215     0.229945     0.215064   0.160249\n",
       "TAX         -0.012979    -0.013276    -0.013584    -0.013341  -0.011466\n",
       "PTRATIO     -0.875341    -0.882250    -0.867814    -0.809978  -0.694286\n",
       "B            0.009651     0.009671     0.008827     0.006888   0.005844\n",
       "LSTAT       -0.505870    -0.514344    -0.608287    -0.784532  -0.831229"
      ]
     },
     "execution_count": 19,
     "metadata": {},
     "output_type": "execute_result"
    }
   ],
   "source": [
    "coeff_df = pd.DataFrame(index = x_train.columns)\n",
    "#coeff_df\n",
    "for idx, alpha in enumerate(alphas):\n",
    "    print(idx, \" : \", alpha)\n",
    "    lasso = Lasso(alpha=alpha)\n",
    "    lasso.fit(x_train, y_train)\n",
    "    col_name = \"alpha : \" + str(alpha)\n",
    "    coeff_df[col_name] = lasso.coef_\n",
    "coeff_df"
   ]
  },
  {
   "cell_type": "code",
   "execution_count": 20,
   "id": "17ed3a58",
   "metadata": {},
   "outputs": [],
   "source": [
    "from sklearn.linear_model import Ridge\n",
    "\n",
    "alphas = [0.01, 0.1, 1, 10, 100]"
   ]
  },
  {
   "cell_type": "code",
   "execution_count": 21,
   "id": "8d293f24",
   "metadata": {},
   "outputs": [
    {
     "name": "stdout",
     "output_type": "stream",
     "text": [
      "alpha :  2\n",
      "score :  0.7653220336843106 mse :  21.163739834123188\n",
      "score :  0.6493473161348786 mse :  24.719545065166\n",
      "--------------------------------------------------\n",
      "alpha :  2\n",
      "score :  0.7652574884608364 mse :  21.169560654622824\n",
      "score :  0.6490914178698826 mse :  24.7375848206983\n",
      "--------------------------------------------------\n",
      "alpha :  2\n",
      "score :  0.7631333430331375 mse :  21.361120441455085\n",
      "score :  0.6461006699750316 mse :  24.948420016797222\n",
      "--------------------------------------------------\n",
      "alpha :  2\n",
      "score :  0.7563754740851001 mse :  21.970558909389364\n",
      "score :  0.6445264188422062 mse :  25.059398125941645\n",
      "--------------------------------------------------\n",
      "alpha :  2\n",
      "score :  0.7351018306257955 mse :  23.88905966412561\n",
      "score :  0.6555448692391059 mse :  24.282643537520386\n",
      "--------------------------------------------------\n"
     ]
    }
   ],
   "source": [
    "for alpha in alphas : \n",
    "    ridge = Ridge(alpha = alpha)\n",
    "    ridge.fit(x_train, y_train)\n",
    "    \n",
    "    train_pred = ridge.predict(x_train)\n",
    "    test_pred = ridge.predict(x_test)\n",
    "    \n",
    "    train_score = ridge.score(x_train, y_train)\n",
    "    test_score = ridge.score(x_test, y_test)\n",
    "    \n",
    "    train_mse = mean_squared_error(train_pred, y_train)\n",
    "    test_mse = mean_squared_error(test_pred, y_test)\n",
    "    \n",
    "    print(\"alpha : \", a)\n",
    "    print(\"score : \", train_score, \"mse : \", train_mse)\n",
    "    print(\"score : \", test_score, \"mse : \", test_mse)\n",
    "    print(\"-\"*50)"
   ]
  },
  {
   "cell_type": "code",
   "execution_count": 22,
   "id": "ed0a31aa",
   "metadata": {},
   "outputs": [
    {
     "data": {
      "text/html": [
       "<div>\n",
       "<style scoped>\n",
       "    .dataframe tbody tr th:only-of-type {\n",
       "        vertical-align: middle;\n",
       "    }\n",
       "\n",
       "    .dataframe tbody tr th {\n",
       "        vertical-align: top;\n",
       "    }\n",
       "\n",
       "    .dataframe thead th {\n",
       "        text-align: right;\n",
       "    }\n",
       "</style>\n",
       "<table border=\"1\" class=\"dataframe\">\n",
       "  <thead>\n",
       "    <tr style=\"text-align: right;\">\n",
       "      <th></th>\n",
       "      <th>alpha : 0.01</th>\n",
       "      <th>alpha : 0.1</th>\n",
       "      <th>alpha : 1</th>\n",
       "      <th>alpha : 10</th>\n",
       "      <th>alpha : 100</th>\n",
       "    </tr>\n",
       "  </thead>\n",
       "  <tbody>\n",
       "    <tr>\n",
       "      <th>CRIM</th>\n",
       "      <td>-0.095028</td>\n",
       "      <td>-0.094334</td>\n",
       "      <td>-0.090681</td>\n",
       "      <td>-0.087442</td>\n",
       "      <td>-0.087136</td>\n",
       "    </tr>\n",
       "    <tr>\n",
       "      <th>ZN</th>\n",
       "      <td>0.032042</td>\n",
       "      <td>0.032220</td>\n",
       "      <td>0.033266</td>\n",
       "      <td>0.036034</td>\n",
       "      <td>0.043777</td>\n",
       "    </tr>\n",
       "    <tr>\n",
       "      <th>INDUS</th>\n",
       "      <td>0.044237</td>\n",
       "      <td>0.039225</td>\n",
       "      <td>0.012466</td>\n",
       "      <td>-0.016826</td>\n",
       "      <td>-0.027987</td>\n",
       "    </tr>\n",
       "    <tr>\n",
       "      <th>CHAS</th>\n",
       "      <td>2.317086</td>\n",
       "      <td>2.307035</td>\n",
       "      <td>2.215432</td>\n",
       "      <td>1.617031</td>\n",
       "      <td>0.476350</td>\n",
       "    </tr>\n",
       "    <tr>\n",
       "      <th>NOX</th>\n",
       "      <td>-16.576186</td>\n",
       "      <td>-15.367057</td>\n",
       "      <td>-8.890763</td>\n",
       "      <td>-1.720201</td>\n",
       "      <td>-0.186454</td>\n",
       "    </tr>\n",
       "    <tr>\n",
       "      <th>RM</th>\n",
       "      <td>4.641523</td>\n",
       "      <td>4.651692</td>\n",
       "      <td>4.685271</td>\n",
       "      <td>4.358257</td>\n",
       "      <td>2.363852</td>\n",
       "    </tr>\n",
       "    <tr>\n",
       "      <th>AGE</th>\n",
       "      <td>-0.007706</td>\n",
       "      <td>-0.008717</td>\n",
       "      <td>-0.013950</td>\n",
       "      <td>-0.016666</td>\n",
       "      <td>-0.000543</td>\n",
       "    </tr>\n",
       "    <tr>\n",
       "      <th>DIS</th>\n",
       "      <td>-1.312298</td>\n",
       "      <td>-1.292747</td>\n",
       "      <td>-1.188362</td>\n",
       "      <td>-1.077145</td>\n",
       "      <td>-0.996421</td>\n",
       "    </tr>\n",
       "    <tr>\n",
       "      <th>RAD</th>\n",
       "      <td>0.257292</td>\n",
       "      <td>0.254463</td>\n",
       "      <td>0.240154</td>\n",
       "      <td>0.237402</td>\n",
       "      <td>0.286789</td>\n",
       "    </tr>\n",
       "    <tr>\n",
       "      <th>TAX</th>\n",
       "      <td>-0.011007</td>\n",
       "      <td>-0.011109</td>\n",
       "      <td>-0.011691</td>\n",
       "      <td>-0.012889</td>\n",
       "      <td>-0.015191</td>\n",
       "    </tr>\n",
       "    <tr>\n",
       "      <th>PTRATIO</th>\n",
       "      <td>-1.087158</td>\n",
       "      <td>-1.070830</td>\n",
       "      <td>-0.984731</td>\n",
       "      <td>-0.909449</td>\n",
       "      <td>-0.941839</td>\n",
       "    </tr>\n",
       "    <tr>\n",
       "      <th>B</th>\n",
       "      <td>0.008805</td>\n",
       "      <td>0.008862</td>\n",
       "      <td>0.009166</td>\n",
       "      <td>0.009398</td>\n",
       "      <td>0.008538</td>\n",
       "    </tr>\n",
       "    <tr>\n",
       "      <th>LSTAT</th>\n",
       "      <td>-0.464465</td>\n",
       "      <td>-0.466404</td>\n",
       "      <td>-0.478468</td>\n",
       "      <td>-0.520335</td>\n",
       "      <td>-0.671646</td>\n",
       "    </tr>\n",
       "  </tbody>\n",
       "</table>\n",
       "</div>"
      ],
      "text/plain": [
       "         alpha : 0.01  alpha : 0.1  alpha : 1  alpha : 10  alpha : 100\n",
       "CRIM        -0.095028    -0.094334  -0.090681   -0.087442    -0.087136\n",
       "ZN           0.032042     0.032220   0.033266    0.036034     0.043777\n",
       "INDUS        0.044237     0.039225   0.012466   -0.016826    -0.027987\n",
       "CHAS         2.317086     2.307035   2.215432    1.617031     0.476350\n",
       "NOX        -16.576186   -15.367057  -8.890763   -1.720201    -0.186454\n",
       "RM           4.641523     4.651692   4.685271    4.358257     2.363852\n",
       "AGE         -0.007706    -0.008717  -0.013950   -0.016666    -0.000543\n",
       "DIS         -1.312298    -1.292747  -1.188362   -1.077145    -0.996421\n",
       "RAD          0.257292     0.254463   0.240154    0.237402     0.286789\n",
       "TAX         -0.011007    -0.011109  -0.011691   -0.012889    -0.015191\n",
       "PTRATIO     -1.087158    -1.070830  -0.984731   -0.909449    -0.941839\n",
       "B            0.008805     0.008862   0.009166    0.009398     0.008538\n",
       "LSTAT       -0.464465    -0.466404  -0.478468   -0.520335    -0.671646"
      ]
     },
     "execution_count": 22,
     "metadata": {},
     "output_type": "execute_result"
    }
   ],
   "source": [
    "coeff_df = pd.DataFrame(index=x_train.columns)\n",
    "for alpha in alphas : \n",
    "    ridge = Ridge(alpha = alpha)\n",
    "    ridge.fit(x_train, y_train)\n",
    "    col_name = \"alpha : \" + str(alpha)\n",
    "    coeff_df[col_name] = ridge.coef_\n",
    "coeff_df"
   ]
  },
  {
   "cell_type": "code",
   "execution_count": 23,
   "id": "6ef76a2a",
   "metadata": {},
   "outputs": [],
   "source": [
    "from sklearn.linear_model import ElasticNet\n",
    "\n",
    "# l1_ratios : 0에 가까울수록 L2(릿지)규제에 가깝다\n",
    "# l1_ratios : 1에 가까울수록 L1(릿소)규제에 가깝다\n",
    "ratios = [0.2, 0.5, 0.8]\n",
    "alphas = [0.1, 0.7, 1.5]"
   ]
  },
  {
   "cell_type": "code",
   "execution_count": 24,
   "id": "affb4932",
   "metadata": {},
   "outputs": [
    {
     "name": "stdout",
     "output_type": "stream",
     "text": [
      "train :  0.7157433952616225\n",
      "test :  0.6472823272856025\n"
     ]
    }
   ],
   "source": [
    "el = ElasticNet(alpha=0.7, l1_ratio=0.2)\n",
    "el.fit(x_train, y_train)\n",
    "\n",
    "print(\"train : \", el.score(x_train, y_train))\n",
    "print(\"test : \", el.score(x_test, y_test))"
   ]
  },
  {
   "cell_type": "code",
   "execution_count": 28,
   "id": "7ad700a1",
   "metadata": {},
   "outputs": [
    {
     "name": "stdout",
     "output_type": "stream",
     "text": [
      "최적의 하이퍼 파라미터 :  {'alpha': 0.1, 'l1_ratio': 0.2}\n",
      "train :  0.7505247777008414\n",
      "test :  0.6502819930131112\n"
     ]
    }
   ],
   "source": [
    "params ={\n",
    "    \"alpha\" : alphas,\n",
    "    \"l1_ratio\" : ratios\n",
    "}\n",
    "el = ElasticNet()\n",
    "grid_cv = GridSearchCV(el, param_grid=params, cv=5)\n",
    "grid_cv.fit(x_train, y_train)\n",
    "\n",
    "print(\"최적의 하이퍼 파라미터 : \", grid_cv.best_params_ )\n",
    "print(\"train : \", grid_cv.score(x_train, y_train))\n",
    "print(\"test : \", grid_cv.score(x_test, y_test))"
   ]
  }
 ],
 "metadata": {
  "kernelspec": {
   "display_name": "Python 3 (ipykernel)",
   "language": "python",
   "name": "python3"
  },
  "language_info": {
   "codemirror_mode": {
    "name": "ipython",
    "version": 3
   },
   "file_extension": ".py",
   "mimetype": "text/x-python",
   "name": "python",
   "nbconvert_exporter": "python",
   "pygments_lexer": "ipython3",
   "version": "3.11.4"
  }
 },
 "nbformat": 4,
 "nbformat_minor": 5
}
