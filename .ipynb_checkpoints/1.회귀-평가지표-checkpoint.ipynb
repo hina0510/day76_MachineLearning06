{
 "cells": [
  {
   "cell_type": "markdown",
   "id": "79c85cf3",
   "metadata": {},
   "source": [
    "### 회귀\n",
    "* 독립변수가 종속변수에 영향을 미치는지 알아보고자 할 때 사용\n",
    "* 연속형 변수들에 대해 두 변수 사이의 적합도를 측정\n",
    "* 단순회귀\n",
    "    - 하나의 종속변수와 하나의 독립변수 사이의 관계 분석\n",
    "* 다중회귀\n",
    "    - 하나의 종속변수와 여러 독립변수 사이의 관계 분석"
   ]
  },
  {
   "cell_type": "markdown",
   "id": "ed380e4e",
   "metadata": {},
   "source": [
    "![img](images/회귀.png)"
   ]
  },
  {
   "cell_type": "markdown",
   "id": "95fe6a42",
   "metadata": {},
   "source": [
    "* 회귀 - 잔차를 최소화하는 회귀계수를 찾아 최적의 모델 구현\n",
    "    - 회귀계수 : 독립변수의 값이 변함에 따라 종속변수에 미치는 영향력의 크기\n",
    "* 잔차 : 실제값 - 예측값"
   ]
  },
  {
   "cell_type": "markdown",
   "id": "3ce17036",
   "metadata": {},
   "source": [
    "### 회귀 평가지표\n",
    "* MSE(Mean Squared Error)(평균 제곱 오차)\n",
    "    - 예측값과 실제값의 차이에 대한 제곱에 대하여 평균을 낸 값\n",
    "    - 회귀 문제에서 가장 많이 사용하는 성능 지표\n",
    "    - 모델을 평가하는 평가 지표로 오차를 나타내는 식이므로 수치가 적을 수록 좋은 모델\n",
    "    - 다른 모델과 비교해야만 성능이 좋은지 알 수 있다.\n",
    "* RMSE(Root Mean Squared Error)\n",
    "    - 0에 가까울수록 좋은 모델\n",
    "    - MSE에 ROOT를 쒸운 값\n",
    "* MAE(Mean Absolute Error, 평균 절대 오차)\n",
    "    - 실제값 대비 예측값의 오차를 나타내는 것으로 값이 낮을 수록 좋다\n",
    "    - 예측값과 실제값의 차이에 대한 절대값에 대하여 평균을 낸 값\n",
    "* MAPE(Mean Absolute Percentage Error, 평균 절대 비율 오차)\n",
    "    - 실제값 대비 예측차이가 얼마나 있는지를 비율(%)로 측정\n",
    "    - 퍼센트값을 가지며 0에 가까울수록 회귀모형의 성능이 좋다고 해석\n",
    "* r2(결정계수)\n",
    "    - 0~1 사이의 값을 표현해 주며 r2의 값이 높을수록 좋다\n",
    "    - 예측 모델과 실제 모델이 얼마나 강한 상관관계를 가지고 있는지"
   ]
  }
 ],
 "metadata": {
  "kernelspec": {
   "display_name": "Python 3 (ipykernel)",
   "language": "python",
   "name": "python3"
  },
  "language_info": {
   "codemirror_mode": {
    "name": "ipython",
    "version": 3
   },
   "file_extension": ".py",
   "mimetype": "text/x-python",
   "name": "python",
   "nbconvert_exporter": "python",
   "pygments_lexer": "ipython3",
   "version": "3.11.4"
  }
 },
 "nbformat": 4,
 "nbformat_minor": 5
}
